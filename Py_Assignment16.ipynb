{
 "cells": [
  {
   "cell_type": "markdown",
   "metadata": {},
   "source": [
    "### Assignment 16 - Statistics"
   ]
  },
  {
   "cell_type": "markdown",
   "metadata": {},
   "source": [
    "#### Problem Statement 16.1:\n",
    "You survey households in your area to find the average rent they are paying. Find the\n",
    "standard deviation from the following data:\n",
    "$1550, $1700, $900, $850, $1000, $950."
   ]
  },
  {
   "cell_type": "code",
   "execution_count": 2,
   "metadata": {},
   "outputs": [],
   "source": [
    "import pandas as pd\n",
    "import matplotlib.pyplot as plt\n",
    "import numpy as np"
   ]
  },
  {
   "cell_type": "code",
   "execution_count": 11,
   "metadata": {},
   "outputs": [
    {
     "name": "stdout",
     "output_type": "stream",
     "text": [
      "Mean\n",
      "\n",
      "1158.3333333333333\n",
      "Standard Deviation\n",
      "\n"
     ]
    },
    {
     "data": {
      "text/plain": [
       "367.99003609699366"
      ]
     },
     "execution_count": 11,
     "metadata": {},
     "output_type": "execute_result"
    }
   ],
   "source": [
    "df = pd.Series([1550, 1700, 900, 850, 1000, 950])\n",
    "print('Mean\\n')\n",
    "df1 = df.mean()\n",
    "print(df1)\n",
    "print('Standard Deviation\\n')\n",
    "df.std()"
   ]
  },
  {
   "cell_type": "code",
   "execution_count": 17,
   "metadata": {},
   "outputs": [
    {
     "data": {
      "text/plain": [
       "<matplotlib.collections.LineCollection at 0xe5a0eb0>"
      ]
     },
     "execution_count": 17,
     "metadata": {},
     "output_type": "execute_result"
    },
    {
     "data": {
      "image/png": "[encoded data removed]",
      "text/plain": [
       "<Figure size 720x360 with 1 Axes>"
      ]
     },
     "metadata": {},
     "output_type": "display_data"
    }
   ],
   "source": [
    "df.plot(kind=\"density\",figsize=(10,5))\n",
    "\n",
    "plt.vlines(df.mean(),ymin=0,ymax=0.0011,linewidth=5.0)\n",
    "\n",
    "plt.vlines(df.std(),ymin=0,ymax=0.0011,linewidth=2.0, color=\"red\")"
   ]
  },
  {
   "cell_type": "markdown",
   "metadata": {},
   "source": [
    "#### Problem Statement 16.2:\n",
    "Find the variance for the following set of data representing trees in California (heights in\n",
    "feet):\n",
    "3, 21, 98, 203, 17, 9"
   ]
  },
  {
   "cell_type": "code",
   "execution_count": 25,
   "metadata": {},
   "outputs": [
    {
     "name": "stdout",
     "output_type": "stream",
     "text": [
      "Mean Value 58.5\n",
      "Variance Value 6219.9\n",
      "------------------------------\n"
     ]
    }
   ],
   "source": [
    "df2 = pd.Series([3, 21, 98, 203, 17, 9])\n",
    "print('Mean Value',df2.mean())\n",
    "print('Variance Value', df2.std()**2)\n",
    "print('-'*30)"
   ]
  },
  {
   "cell_type": "markdown",
   "metadata": {},
   "source": [
    "#### Problem Statement 16.3:\n",
    "In a class on 100 students, 80 students passed in all subjects, 10 failed in one subject, 7\n",
    "failed in two subjects and 3 failed in three subjects. Find the probability distribution of\n",
    "the variable for number of subjects a student from the given class has failed in."
   ]
  },
  {
   "cell_type": "markdown",
   "metadata": {},
   "source": [
    "##### Solution: \n",
    "\n",
    "For a random student, \n",
    "\n",
    "The probability of failing in 0 subjects, P(X=0) = 0.8\n",
    "\n",
    "The probability of failing in 1 subjects, P(X=1) = 0.1\n",
    "\n",
    "The probability of failing in 2 subjects, P(X=2) = 0.07\n",
    "\n",
    "The probability of failing in 3 subjects, P(X=3) = 0.03\n",
    "\n",
    "The probability distribution can be shown as:\n",
    "\n",
    " X ------0----1------2--------3\n",
    " \n",
    " P(X)---0.8---0.1---0.07-----0.03\n"
   ]
  },
  {
   "cell_type": "code",
   "execution_count": null,
   "metadata": {},
   "outputs": [],
   "source": []
  }
 ],
 "metadata": {
  "kernelspec": {
   "display_name": "Python 3",
   "language": "python",
   "name": "python3"
  },
  "language_info": {
   "codemirror_mode": {
    "name": "ipython",
    "version": 3
   },
   "file_extension": ".py",
   "mimetype": "text/x-python",
   "name": "python",
   "nbconvert_exporter": "python",
   "pygments_lexer": "ipython3",
   "version": "3.6.5"
  }
 },
 "nbformat": 4,
 "nbformat_minor": 2
}
